Which boolean factors can better corelate with counts_kisses
